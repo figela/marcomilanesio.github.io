{
 "cells": [
  {
   "cell_type": "markdown",
   "metadata": {},
   "source": [
    "## Food inspection\n",
    "\n",
    "  * Download the data from [here](https://data.cityofchicago.org/Health-Human-Services/Food-Inspections/4ijn-s7e5)\n",
    "  * Place the file in the `data` folder\n",
    "  * We will cover some basic data analysis using only Python3.x features\n",
    "  * No additional library\n",
    "  * Credits to [D.Beazley](https://www.dabeaz.com/)"
   ]
  },
  {
   "cell_type": "code",
   "execution_count": 3,
   "metadata": {},
   "outputs": [],
   "source": [
    "import csv\n",
    "from collections import Counter\n",
    "from collections import defaultdict\n",
    "food = list(csv.DictReader(open('./data/Food_Inspections.csv')))"
   ]
  },
  {
   "cell_type": "code",
   "execution_count": 4,
   "metadata": {},
   "outputs": [
    {
     "data": {
      "text/plain": [
       "OrderedDict([('Inspection ID', '2312415'),\n",
       "             ('DBA Name', 'NECESSARY & SUFFICIENT COFFEE'),\n",
       "             ('AKA Name', 'NECESSARY & SUFFICIENT COFFEE'),\n",
       "             ('License #', '2677227'),\n",
       "             ('Facility Type', 'Restaurant'),\n",
       "             ('Risk', 'Risk 1 (High)'),\n",
       "             ('Address', '3624 W WRIGHTWOOD AVE '),\n",
       "             ('City', 'CHICAGO'),\n",
       "             ('State', 'IL'),\n",
       "             ('Zip', '60647'),\n",
       "             ('Inspection Date', '09/17/2019'),\n",
       "             ('Inspection Type', 'License Re-Inspection'),\n",
       "             ('Results', 'Pass w/ Conditions'),\n",
       "             ('Violations',\n",
       "              '3. MANAGEMENT, FOOD EMPLOYEE AND CONDITIONAL EMPLOYEE; KNOWLEDGE, RESPONSIBILITIES AND REPORTING - Comments: Violation Codes: 2-102.14(O)  Inspector Comments: OBSERVED NO SIGNED EMPLOYEES HEALTH POLICIES.MUST PROVIDE AND MAINTAIN.(PRIORITY FOUNDATION-NO CITATION ISSUED) | 55. PHYSICAL FACILITIES INSTALLED, MAINTAINED & CLEAN - Comments: Violation Codes: 6-201.13  Inspector Comments: MUST REMOVE EXCESS CAULKING AT DRAIN UNDER FRONT SERVICE COUNTER. | 57. ALL FOOD EMPLOYEES HAVE FOOD HANDLER TRAINING - Comments: Violation Codes: 2-102.13  Inspector Comments: MUST PROVIDE FOOD HANDLERS TRAINING FOR ALL EMPLOYEES'),\n",
       "             ('Latitude', '41.928351529514096'),\n",
       "             ('Longitude', '-87.71809710408122'),\n",
       "             ('Location', '(-87.71809710408122, 41.928351529514096)'),\n",
       "             ('Historical Wards 2003-2015', ''),\n",
       "             ('Zip Codes', ''),\n",
       "             ('Community Areas', ''),\n",
       "             ('Census Tracts', ''),\n",
       "             ('Wards', '')])"
      ]
     },
     "execution_count": 4,
     "metadata": {},
     "output_type": "execute_result"
    }
   ],
   "source": [
    "food[0]"
   ]
  },
  {
   "cell_type": "code",
   "execution_count": null,
   "metadata": {},
   "outputs": [],
   "source": []
  }
 ],
 "metadata": {
  "kernelspec": {
   "display_name": "Python 3",
   "language": "python",
   "name": "python3"
  },
  "language_info": {
   "codemirror_mode": {
    "name": "ipython",
    "version": 3
   },
   "file_extension": ".py",
   "mimetype": "text/x-python",
   "name": "python",
   "nbconvert_exporter": "python",
   "pygments_lexer": "ipython3",
   "version": "3.6.8"
  }
 },
 "nbformat": 4,
 "nbformat_minor": 2
}
